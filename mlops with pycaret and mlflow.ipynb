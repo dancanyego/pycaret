{
 "cells": [
  {
   "cell_type": "code",
   "execution_count": 1,
   "id": "c1ef60dc",
   "metadata": {},
   "outputs": [],
   "source": [
    "## In this sample we will use the diamond dataset "
   ]
  },
  {
   "cell_type": "code",
   "execution_count": null,
   "id": "f2f198c2",
   "metadata": {},
   "outputs": [],
   "source": [
    "# load the dataset from pycaret\n",
    "from pycaret.datasets import get_data\n",
    "data = get_data('diamond')"
   ]
  },
  {
   "cell_type": "code",
   "execution_count": null,
   "id": "e0e40a7d",
   "metadata": {},
   "outputs": [],
   "source": []
  }
 ],
 "metadata": {
  "kernelspec": {
   "display_name": "Python 3 (ipykernel)",
   "language": "python",
   "name": "python3"
  },
  "language_info": {
   "codemirror_mode": {
    "name": "ipython",
    "version": 3
   },
   "file_extension": ".py",
   "mimetype": "text/x-python",
   "name": "python",
   "nbconvert_exporter": "python",
   "pygments_lexer": "ipython3",
   "version": "3.9.13"
  }
 },
 "nbformat": 4,
 "nbformat_minor": 5
}
